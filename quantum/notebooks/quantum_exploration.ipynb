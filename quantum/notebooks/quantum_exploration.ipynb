{
 "cells": [
  {
   "cell_type": "markdown",
   "metadata": {},
   "source": [
    "# Quantum Exploration\n",
    "\n",
    "This notebook is designed for exploring fundamental quantum concepts, quantum gates, circuits, and algorithms. We will use Qiskit to demonstrate various quantum phenomena and algorithms."
   ]
  },
  {
   "cell_type": "code",
   "execution_count": 1,
   "metadata": {},
   "outputs": [],
   "source": [
    "# Import necessary libraries\n",
    "import numpy as np\n",
    "import matplotlib.pyplot as plt\n",
    "from qiskit import QuantumCircuit, Aer, execute\n",
    "from qiskit.visualization import plot_bloch_multivector, plot_histogram\n",
    "from qiskit.quantum_info import Statevector"
   ]
  },
  {
   "cell_type": "markdown",
   "metadata": {},
   "source": [
    "## 1. Quantum Gates\n",
    "\n",
    "Quantum gates are the building blocks of quantum circuits. They manipulate qubits and can create superpositions and entanglements. Let's explore some basic quantum gates."
   ]
  },
  {
   "cell_type": "code",
   "execution_count": 2,
   "metadata": {},
   "outputs": [],
   "source": [
    "# Create a quantum circuit with 1 qubit\n",
    "qc = QuantumCircuit(1)\n",
    "\n",
    "# Apply a Hadamard gate\n",
    "qc.h(0)\n",
    "\n",
    "# Get the state vector\n",
    "backend = Aer.get_backend('statevector_simulator')\n",
    "result = execute(qc, backend).result()\n",
    "statevector = result.get_statevector()\n",
    "\n",
    "# Visualize the state on the Bloch sphere\n",
    "plot_bloch_multivector(statevector)"
   ]
  },
  {
   "cell_type": "markdown",
   "metadata": {},
   "source": [
    "The Hadamard gate creates a superposition state. The Bloch sphere visualization shows the state of the qubit after applying the Hadamard gate."
   ]
  },
  {
   "cell_type": "markdown",
   "metadata": {},
   "source": [
    "## 2. Quantum Circuits\n",
    "\n",
    "Quantum circuits are composed of quantum gates applied to qubits. Let's create a simple quantum circuit that generates a Bell state (entangled state)."
   ]
  },
  {
   "cell_type": "code",
   "execution_count": 3,
   "metadata": {},
   "outputs": [],
   "source": [
    "# Create a quantum circuit with 2 qubits\n",
    "qc_bell = QuantumCircuit(2)\n",
    "\n",
    "# Apply Hadamard gate to the first qubit\n",
    "qc_bell.h(0)\n",
    "\n",
    "# Apply CNOT gate\n",
    "qc_bell.cx(0, 1)\n",
    "\n",
    "# Get the state vector\n",
    "result_bell = execute(qc_bell, backend).result()\n",
    "statevector_bell = result_bell.get_statevector()\n",
    "\n",
    "# Visualize the state on the Bloch sphere\n",
    "plot_bloch_multivector(statevector_bell)"
   ]
  },
  {
   "cell_type": "markdown",
   "metadata": {},
   "source": [
    "The circuit above generates a Bell state, which is a maximally entangled state. The Bloch sphere visualization shows the states of both qubits."
   ]
  },
  {
   "cell_type": "markdown",
   "metadata": {},
   "source": [
    "## 3. Quantum Algorithms\n",
    "\n",
    "Let's explore Grover's algorithm, which is used for searching an unsorted database. We will implement a simple version of Grover's algorithm."
   ]
  },
  {
   "cell_type": "code",
   "execution_count": 4,
   "metadata": {},
   "outputs": [],
   "source": [
    "def create_grover_circuit(num_qubits, marked_element):\n",
    "    circuit = QuantumCircuit(num_qubits, num_qubits)\n",
    "    \n",
    "    # Initialize qubits in superposition\n",
    "    circuit.h(range(num_qubits))\n",
    "    \n",
    "    # Grover's iterations\n",
    "    num_iterations = int(np.pi / 4 * np.sqrt(2**num_qubits))\n",
    "    for _ in range(num_iterations):\n",
    "        # Oracle: Flip the sign of the marked element\n",
    "        circuit.x(marked_element)\n",
    "        circuit.h(marked_element)\n",
    "        circuit.z(marked_element)\n",
    "        circuit.h(marked_element)\n",
    "        circuit.x(marked_element)\n",
    "        \n",
    "        # Diffusion operator\n",
    "        circuit.h(range(num_qubits))\n",
    "        circuit.x(range(num_qubits))\n",
    "        circuit.h(num_qubits - 1)\n",
    "        circuit.cx(range(num_qubits - 1), num_qubits - 1)\n",
    "        circuit.h(num_qubits - 1)\n",
    "        circuit.x(range(num_qubits))\n",
    "        circuit.h(range(num_qubits))\n",
    "    \n",
    "    # Measure the qubits\n",
    "    circuit.measure(range(num_qubits), range(num_qubits))\n",
    "    return circuit\n",
    "\n",
    "# Create and run Grover's circuit\n",
    "num_qubits = 3\n",
    "marked_element = 5\n",
    "grover_circuit = create_grover_circuit(num_qubits, marked_element)\n",
    "result_grover = execute(grover_circuit, backend, shots=1024).result()\n",
    "counts_grover = result_grover.get_counts(grover_circuit)\n",
    "plot_histogram(counts_grover)"
   ]
  },
  {
   "cell_type": "markdown",
   "metadata": {},
   "source": [
    "The histogram shows the results of Grover's algorithm, highlighting the marked element in the search space."
   ]
  },
  {
   "cell_type": "markdown",
   "metadata": {},
   "source": [
    "## 4. Conclusion\n",
    "\n",
 "In this notebook, we explored fundamental quantum concepts, including quantum gates, circuits, and algorithms. We demonstrated the creation of superposition states, entangled states, and implemented Grover's algorithm for searching an unsorted database. This exploration provides a foundational understanding of how quantum computing operates and the potential applications of quantum algorithms in solving complex problems."
   ]
  }
 ],
 "metadata": {
  "kernelspec": {
   "display_name": "Python 3",
   "language": "python",
   "name": "python3"
  },
  "language_info": {
   "codemirror_mode": {
    "name": "ipython",
    "version": 3
   },
   "file_extension": ".py",
   "mimetype": "text/x-python",
   "name": "python",
   "nbconvert_exporter": "python",
   "pygments_lexer": "ipython3",
   "version": "3.8.5"
  }
 },
 "nbformat": 4,
 "nbformat_minor": 4
}
