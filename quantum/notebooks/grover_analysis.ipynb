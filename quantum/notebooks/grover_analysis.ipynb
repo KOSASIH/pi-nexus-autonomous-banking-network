{
 "cells": [
  {
   "cell_type": "markdown",
   "metadata": {},
   "source": [
    "# Analysis of Grover's Algorithm\n",
    "\n",
    "This notebook provides an analysis of Grover's algorithm, which is used for searching an unsorted database. We will explore the algorithm's performance, success probability, and the impact of various parameters."
   ]
  },
  {
   "cell_type": "code",
   "execution_count": 1,
   "metadata": {},
   "outputs": [],
   "source": [
    "# Import necessary libraries\n",
    "import numpy as np\n",
    "import matplotlib.pyplot as plt\n",
    "from qiskit import QuantumCircuit, Aer, execute\n",
    "from qiskit.visualization import plot_histogram\n",
    "\n",
    "def create_grover_circuit(num_qubits, marked_element):\n",
    "    circuit = QuantumCircuit(num_qubits, num_qubits)\n",
    "    \n",
    "    # Initialize qubits in superposition\n",
    "    circuit.h(range(num_qubits))\n",
    "    \n",
    "    # Grover's iterations\n",
    "    num_iterations = int(np.pi / 4 * np.sqrt(2**num_qubits))\n",
    "    for _ in range(num_iterations):\n",
    "        # Oracle: Flip the sign of the marked element\n",
    "        circuit.x(marked_element)\n",
    "        circuit.h(marked_element)\n",
    "        circuit.z(marked_element)\n",
    "        circuit.h(marked_element)\n",
    "        circuit.x(marked_element)\n",
    "        \n",
    "        # Diffusion operator\n",
    "        circuit.h(range(num_qubits))\n",
    "        circuit.x(range(num_qubits))\n",
    "        circuit.h(num_qubits - 1)\n",
    "        circuit.cx(range(num_qubits - 1), num_qubits - 1)\n",
    "        circuit.h(num_qubits - 1)\n",
    "        circuit.x(range(num_qubits))\n",
    "        circuit.h(range(num_qubits))\n",
    "    \n",
    "    # Measure the qubits\n",
    "    circuit.measure(range(num_qubits), range(num_qubits))\n",
    "    return circuit"
   ]
  },
  {
   "cell_type": "markdown",
   "metadata": {},
   "source": [
    "## 1. Grover's Algorithm Implementation\n",
    "\n",
    "We will implement Grover's algorithm for a specific marked element and analyze its performance."
   ]
  },
  {
   "cell_type": "code",
   "execution_count": 2,
   "metadata": {},
   "outputs": [],
   "source": [
    "# Function to run Grover's algorithm and return counts\n",
    "def run_grover(num_qubits, marked_element):\n",
    "    grover_circuit = create_grover_circuit(num_qubits, marked_element)\n",
    "    backend = Aer.get_backend('qasm_simulator')\n",
    "    result = execute(grover_circuit, backend, shots=1024).result()\n",
    "    counts = result.get_counts(grover_circuit)\n",
    "    return counts\n",
    "\n",
    "# Example run for 3 qubits and marked element 5\n",
    "num_qubits = 3\n",
    "marked_element = 5\n",
    "counts = run_grover(num_qubits, marked_element)\n",
    "plot_histogram(counts)"
   ]
  },
  {
   "cell_type": "markdown",
   "metadata": {},
   "source": [
    "The histogram above shows the results of Grover's algorithm for the marked element. We can see that the marked element has a higher probability of being measured compared to others."
   ]
  },
  {
   "cell_type": "markdown",
   "metadata": {},
   "source": [
    "## 2. Success Probability Analysis\n",
    "\n",
    "Let's analyze the success probability of Grover's algorithm as we vary the number of iterations."
   ]
  },
  {
   "cell_type": "code",
   "execution_count": 3,
   "metadata": {},
   "outputs": [],
   "source": [
    "# Function to analyze success probability\n",
    "def analyze_success_probability(num_qubits, marked_element, max_iterations):\n",
    "    probabilities = []\n",
    "    for iterations in range(1, max_iterations + 1):\n",
    "        # Create the circuit with a specific number of iterations\n",
    "        circuit = create_grover_circuit(num_qubits, marked_element)\n",
    "        # Measure the success probability\n",
    "        counts = run_grover(num_qubits, marked_element)\n",
    "        total_counts = sum(counts.values())\n",
    "        success_count = counts.get(bin(marked_element)[2:].zfill(num_qubits), 0)\n",
    "        probabilities.append(success_count / total_counts)\n",
    "    return probabilities\n",
    "\n",
    "# Analyze success probability for 3 qubits and marked element 5\n",
    "max_iterations = 10\n",
    "success_probabilities = analyze_success_probability(num_qubits, marked_element, max_iterations)\n",
    "\n",
    "# Plot success probabilities\n",
    "plt.plot(range(1, max_iterations + 1), success_probabilities, marker='o')\n",
    "plt.title('Success Probability of Grover\'s Algorithm')\n",
    "plt.xlabel('Number of Iterations')\n",
    "plt.ylabel('Success Probability')\n",
    "plt.xticks(range(1, max_iterations + 1))\n",
    "plt.grid()\n",
    "plt.show()"
   ]
  },
  {
   "cell_type": "markdown",
   "metadata": {},
   "source": [
    "The plot above shows the success probability of Grover's algorithm as the number of iterations increases. We can observe how the probability approaches its maximum value."
   ]
  },
  {
   "cell_type": "markdown",
   "metadata": {},
   "source": [
    "## 3. Conclusion\n",
    "\n",
    "In this notebook, we analyzed Grover's algorithm, implemented its core functionality, and examined its performance through success probability analysis. This exploration highlights the efficiency of Grover's algorithm in searching unsorted databases and provides insights into its operational characteristics."
   ]
  }
 ],
 "metadata": {
  "kernelspec": {
   "display_name": "Python 3",
   "language": "python",
   "name": "python3"
  },
  "language _info": {
    "codemirror_mode": {
      "name": "ipython",
      "version": 3
    },
    "file_extension": ".py",
    "mimetype": "text/x-python",
    "name": "python",
    "nbconvert_exporter": "python",
    "pygments_lexer": "ipython3",
    "version": "3.8.5"
  }
 },
 "nbformat": 4,
 "nbformat_minor": 4
}
