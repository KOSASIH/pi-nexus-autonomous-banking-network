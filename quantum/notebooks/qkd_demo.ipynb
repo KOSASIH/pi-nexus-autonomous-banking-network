{
 "cells": [
  {
   "cell_type": "markdown",
   "metadata": {},
   "source": [
    "# Quantum Key Distribution (QKD) Demo\n",
    "\n",
    "This notebook demonstrates Quantum Key Distribution (QKD) using the BB84 protocol. We will simulate the process of key generation between two parties, Alice and Bob, and analyze the security of the generated key."
   ]
  },
  {
   "cell_type": "code",
   "execution_count": 1,
   "metadata": {},
   "outputs": [],
   "source": [
    "# Import necessary libraries\n",
    "import numpy as np\n",
    "import random\n",
    "import matplotlib.pyplot as plt\n",
    "from qiskit import QuantumCircuit, Aer, execute\n",
    "from qiskit.visualization import plot_histogram\n",
    "\n",
    "def create_bb84_circuit(bits, bases):\n",
    "    circuit = QuantumCircuit(len(bits), len(bits))\n",
    "    \n",
    "    for i in range(len(bits)):\n",
    "        if bases[i] == 0:\n",
    "            if bits[i] == 1:\n",
    "                circuit.x(i)  # Prepare |1> state\n",
    "            circuit.h(i)  # Apply Hadamard to prepare |+> state\n",
    "        else:\n",
    "            if bits[i] == 1:\n",
    "                circuit.x(i)  # Prepare |1> state\n"
    "    \n",
    "    # Measure the qubits\n",
    "    circuit.measure(range(len(bits)), range(len(bits)))\n",
    "    return circuit"
   ]
  },
  {
   "cell_type": "markdown",
   "metadata": {},
   "source": [
    "## 1. Key Generation\n",
    "\n",
    "In the BB84 protocol, Alice randomly generates a sequence of bits and a corresponding sequence of bases (0 for the computational basis and 1 for the Hadamard basis). Bob will also randomly choose bases to measure the qubits."
   ]
  },
  {
   "cell_type": "code",
   "execution_count": 2,
   "metadata": {},
   "outputs": [],
   "source": [
    "# Step 1: Alice generates random bits and bases\n",
    "num_bits = 10\n",
    "alice_bits = np.random.randint(2, size=num_bits)\n",
    "alice_bases = np.random.randint(2, size=num_bits)\n",
    "\n",
    "# Step 2: Create the quantum circuit\n",
    "bb84_circuit = create_bb84_circuit(alice_bits, alice_bases)\n",
    "\n",
    "# Step 3: Simulate the circuit\n",
    "backend = Aer.get_backend('qasm_simulator')\n",
    "result = execute(bb84_circuit, backend, shots=1024).result()\n",
    "counts = result.get_counts(bb84_circuit)\n",
    "plot_histogram(counts)"
   ]
  },
  {
   "cell_type": "markdown",
   "metadata": {},
   "source": [
    "The histogram above shows the measurement results from Alice's prepared states. Next, we will simulate Bob's measurement process."
   ]
  },
  {
   "cell_type": "code",
   "execution_count": 3,
   "metadata": {},
   "outputs": [],
   "source": [
    "# Step 4: Bob randomly chooses bases and measures\n",
    "bob_bases = np.random.randint(2, size=num_bits)\n",
    "bob_results = []\n",
    "\n",
    "for i in range(num_bits):\n",
    "    if bob_bases[i] == alice_bases[i]:\n",
    "        # Bob measures correctly\n",
    "        bob_results.append(alice_bits[i])\n",
    "    else:\n",
    "        # Bob measures incorrectly (randomly)\n",
    "        bob_results.append(random.randint(0, 1))\n",
    "\n",
    "print(\"Alice's Bits: \", alice_bits)\n",
    "print(\"Alice's Bases: \", alice_bases)\n",
    "print(\"Bob's Bases: \", bob_bases)\n",
    "print(\"Bob's Results: \", bob_results)"
   ]
  },
  {
   "cell_type": "markdown",
   "metadata": {},
   "source": [
    "Bob's results are based on his randomly chosen bases. Now, we will compare Alice's bits and Bob's results to determine the shared key."
   ]
  },
  {
   "cell_type": "code",
   "execution_count": 4,
   "metadata": {},
   "outputs": [],
   "source": [
    "# Step 5: Key sifting\n",
    "shared_key = []\n",
    "for i in range(num_bits):\n",
    "    if alice_bases[i] == bob_bases[i]:\n",
    "        shared_key.append(bob_results[i])\n",
    "\n",
    "print(\"Shared Key: \", shared_key)"
   ]
  },
  {
   "cell_type": "markdown",
   "metadata": {},
   "source": [
    "The shared key is generated based on the bits where both Alice and Bob used the same basis. This key can be used for secure communication."
   ]
  },
  {
   "cell_type": "markdown",
   "metadata": {},
   "source": [
    "## 2. Security Analysis\n",
    "\n",
    "In a real-world scenario, eavesdroppers could attempt to intercept the key. We will analyze the effect of eavesdropping on the shared key."
   ]
  },
  {
   "cell_type": "code",
   "execution_count": 5,
   "metadata": {},
   "outputs": [],
   "source": [
    "# Simulate eavesdropping\n",
    "def simulate_eavesdropping(alice_bits, alice_bases, eavesdropper_bases):\n",
    "    eavesdropper_results = []\n",
    "    for i in range(len(alice_bits)):\n",
    "        if eavesdropper_bases[i ] == alice_bases[i]:\n",
        "            # Eavesdropper measures correctly\n",
        "            eavesdropper_results.append(alice_bits[i])\n",
        "        else:\n",
        "            # Eavesdropper measures incorrectly (randomly)\n",
        "            eavesdropper_results.append(random.randint(0, 1))\n",
        "    return eavesdropper_results\n",
        "\n",
        "# Step 6: Eavesdropper randomly chooses bases\n",
        "eavesdropper_bases = np.random.randint(2, size=num_bits)\n",
        "eavesdropper_results = simulate_eavesdropping(alice_bits, alice_bases, eavesdropper_bases)\n",
        "\n",
        "print(\"Eavesdropper's Bases: \", eavesdropper_bases)\n",
        "print(\"Eavesdropper's Results: \", eavesdropper_results)"
   ]
  },
  {
   "cell_type": "markdown",
   "metadata": {},
   "source": [
    "The eavesdropper's results are based on their randomly chosen bases. We can now analyze how this affects the shared key."
   ]
  },
  {
   "cell_type": "code",
   "execution_count": 6,
   "metadata": {},
   "outputs": [],
   "source": [
    "# Step 7: Compare eavesdropper's results with Alice's bits\n",
    "eavesdropped_key = []\n",
    "for i in range(num_bits):\n",
    "    if alice_bases[i] == eavesdropper_bases[i]:\n",
    "        eavesdropped_key.append(eavesdropper_results[i])\n",
    "\n",
    "print(\"Eavesdropped Key: \", eavesdropped_key)"
   ]
  },
  {
   "cell_type": "markdown",
   "metadata": {},
   "source": [
    "The eavesdropped key is generated based on the bits where both Alice and the eavesdropper used the same basis. This analysis highlights the potential vulnerabilities in the key distribution process."
   ]
  },
  {
   "cell_type": "markdown",
   "metadata": {},
   "source": [
    "## 3. Conclusion\n",
    "\n",
    "In this notebook, we demonstrated Quantum Key Distribution using the BB84 protocol. We simulated the key generation process between Alice and Bob, analyzed the impact of eavesdropping, and discussed the security implications of the protocol. This exploration provides insights into the practical applications of quantum cryptography."
   ]
  }
 ],
 "metadata": {
  "kernelspec": {
   "display_name": "Python 3",
   "language": "python",
   "name": "python3"
  },
  "language_info": {
    "codemirror_mode": {
      "name": "ipython",
      "version": 3
    },
    "file_extension": ".py",
    "mimetype": "text/x-python",
    "name": "python",
    "nbconvert_exporter": "python",
    "pygments_lexer": "ipython3",
    "version": "3.8.5"
  }
 },
 "nbformat": 4,
 "nbformat_minor": 4
}
