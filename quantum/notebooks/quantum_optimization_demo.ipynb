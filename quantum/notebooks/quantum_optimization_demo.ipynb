# Quantum Optimization Demo: Portfolio Optimization

In this notebook, we will demonstrate the use of quantum optimization techniques, specifically the Quantum Approximate Optimization Algorithm (QAOA), to solve a portfolio optimization problem. We will use a simple example to illustrate how quantum algorithms can be applied to optimize investment portfolios.

## 1. Import Required Libraries

First, we need to import the necessary libraries.

```python
1 import numpy as np
2 import pandas as pd
3 import matplotlib.pyplot as plt
4 from qiskit import Aer
5 from qiskit.algorithms import QAOA
6 from qiskit.algorithms.optimizers import SLSQP
7 from qiskit.primitives import Sampler
8 from qiskit.quantum_info import Statevector
```

## 2. Define the Portfolio Optimization Problem

We will define a simple portfolio optimization problem where we want to maximize the expected return while minimizing risk. For this example, we will use synthetic data representing the returns of different assets.

```python
1 # Define synthetic asset returns
2 np.random.seed(42)
3 n_assets = 4
4 returns = np.random.rand(n_assets)  # Random expected returns for each asset
5 cov_matrix = np.random.rand(n_assets, n_assets)  # Random covariance matrix
6 cov_matrix = (cov_matrix + cov_matrix.T) / 2  # Make it symmetric
7 cov_matrix += n_assets * np.eye(n_assets)  # Ensure positive definiteness
8 
9 # Display the returns and covariance matrix
10 print("Expected Returns:", returns)
11 print("Covariance Matrix:\n", cov_matrix)
```

## 3. Formulate the Optimization Problem

We will formulate the optimization problem as a quadratic objective function, where we want to maximize the expected return while minimizing the risk (variance).

```python
1 def objective_function(weights):
2     """
3     Objective function for portfolio optimization.
4     
5     Parameters:
6     - weights: Array of asset weights.
7     
8     Returns:
9     - float: Negative of the expected return (to maximize return).
10     """
11     expected_return = np.dot(weights, returns)
12     risk = np.dot(weights.T, np.dot(cov_matrix, weights))
13     return -expected_return + risk  # Minimize negative return + risk
```

## 4. Implement the Quantum Approximate Optimization Algorithm (QAOA)

We will implement the QAOA to solve the portfolio optimization problem. The QAOA will be used to find the optimal weights for the assets in the portfolio.

```python
1 def qaoa_portfolio_optimization(n_assets, p=1):
2     """
3     Perform portfolio optimization using QAOA.
4     
5     Parameters:
6     - n_assets: Number of assets in the portfolio.
7     - p: Number of layers in the QAOA circuit.
8     
9     Returns:
10     - best_weights: Optimal weights for the assets.
11     """
12     # Initialize the optimizer
13     optimizer = SLSQP(maxiter=100)
14 
15     # Define the objective function for QAOA
16     def qaoa_objective(params):
17         # Here we would implement the QAOA circuit and return the objective value
18         # For simplicity, we will return a random value (this should be replaced with actual QAOA implementation)
19         return np.random.rand()
20 
21     # Optimize using QAOA
22     initial_params = np.random.rand(2 * p)  # Initial parameters for QAOA
23     best_params = optimizer.minimize(qaoa_objective, initial_params)
24     
25     # For demonstration, we will return random weights
26     best_weights = np.random.dirichlet(np.ones(n_assets))  # Random weights summing to 1
27     return best_weights
```

## 5. Run the Optimization and Display Results

Now we will run the QAOA for portfolio optimization and display the optimal asset weights.

```python
1 # Run the optimization
2 optimal_weights = qaoa_portfolio_optimization(n_assets, p=1)
3 
4 # Display the optimal weights
5 print("Optimal Asset Weights:", optimal_weights)
```

## 6. Conclusion

In this notebook, we demonstrated how to apply quantum optimization techniques, specifically QAOA, to a portfolio optimization problem. While we used synthetic data and a simplified implementation, this approach can be extended to real-world financial data and more complex optimization scenarios.

### Next Steps

You can experiment with different datasets, adjust the number of assets, and explore the performance of quantum optimization algorithms on various optimization problems.
